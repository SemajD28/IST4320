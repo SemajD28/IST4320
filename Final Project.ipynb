{
 "cells": [
  {
   "cell_type": "code",
   "execution_count": 2,
   "id": "43d082a8-0dda-4bbd-a4c4-6ec4332bf0ab",
   "metadata": {},
   "outputs": [
    {
     "name": "stdout",
     "output_type": "stream",
     "text": [
      "Requirement already satisfied: jupyterlab in /opt/conda/lib/python3.11/site-packages (4.0.5)\n",
      "Requirement already satisfied: ipywidgets in /opt/conda/lib/python3.11/site-packages (8.1.0)\n",
      "Requirement already satisfied: async-lru>=1.0.0 in /opt/conda/lib/python3.11/site-packages (from jupyterlab) (2.0.4)\n",
      "Requirement already satisfied: ipykernel in /opt/conda/lib/python3.11/site-packages (from jupyterlab) (6.25.2)\n",
      "Requirement already satisfied: jinja2>=3.0.3 in /opt/conda/lib/python3.11/site-packages (from jupyterlab) (3.1.2)\n",
      "Requirement already satisfied: jupyter-core in /opt/conda/lib/python3.11/site-packages (from jupyterlab) (5.3.1)\n",
      "Requirement already satisfied: jupyter-lsp>=2.0.0 in /opt/conda/lib/python3.11/site-packages (from jupyterlab) (2.2.0)\n",
      "Requirement already satisfied: jupyter-server<3,>=2.4.0 in /opt/conda/lib/python3.11/site-packages (from jupyterlab) (2.7.3)\n",
      "Requirement already satisfied: jupyterlab-server<3,>=2.19.0 in /opt/conda/lib/python3.11/site-packages (from jupyterlab) (2.24.0)\n",
      "Requirement already satisfied: notebook-shim>=0.2 in /opt/conda/lib/python3.11/site-packages (from jupyterlab) (0.2.3)\n",
      "Requirement already satisfied: packaging in /opt/conda/lib/python3.11/site-packages (from jupyterlab) (23.1)\n",
      "Requirement already satisfied: tornado>=6.2.0 in /opt/conda/lib/python3.11/site-packages (from jupyterlab) (6.3.3)\n",
      "Requirement already satisfied: traitlets in /opt/conda/lib/python3.11/site-packages (from jupyterlab) (5.9.0)\n",
      "Requirement already satisfied: comm>=0.1.3 in /opt/conda/lib/python3.11/site-packages (from ipywidgets) (0.1.4)\n",
      "Requirement already satisfied: ipython>=6.1.0 in /opt/conda/lib/python3.11/site-packages (from ipywidgets) (8.15.0)\n",
      "Requirement already satisfied: widgetsnbextension~=4.0.7 in /opt/conda/lib/python3.11/site-packages (from ipywidgets) (4.0.8)\n",
      "Requirement already satisfied: jupyterlab-widgets~=3.0.7 in /opt/conda/lib/python3.11/site-packages (from ipywidgets) (3.0.8)\n",
      "Requirement already satisfied: backcall in /opt/conda/lib/python3.11/site-packages (from ipython>=6.1.0->ipywidgets) (0.2.0)\n",
      "Requirement already satisfied: decorator in /opt/conda/lib/python3.11/site-packages (from ipython>=6.1.0->ipywidgets) (5.1.1)\n",
      "Requirement already satisfied: jedi>=0.16 in /opt/conda/lib/python3.11/site-packages (from ipython>=6.1.0->ipywidgets) (0.19.0)\n",
      "Requirement already satisfied: matplotlib-inline in /opt/conda/lib/python3.11/site-packages (from ipython>=6.1.0->ipywidgets) (0.1.6)\n",
      "Requirement already satisfied: pickleshare in /opt/conda/lib/python3.11/site-packages (from ipython>=6.1.0->ipywidgets) (0.7.5)\n",
      "Requirement already satisfied: prompt-toolkit!=3.0.37,<3.1.0,>=3.0.30 in /opt/conda/lib/python3.11/site-packages (from ipython>=6.1.0->ipywidgets) (3.0.39)\n",
      "Requirement already satisfied: pygments>=2.4.0 in /opt/conda/lib/python3.11/site-packages (from ipython>=6.1.0->ipywidgets) (2.16.1)\n",
      "Requirement already satisfied: stack-data in /opt/conda/lib/python3.11/site-packages (from ipython>=6.1.0->ipywidgets) (0.6.2)\n",
      "Requirement already satisfied: pexpect>4.3 in /opt/conda/lib/python3.11/site-packages (from ipython>=6.1.0->ipywidgets) (4.8.0)\n",
      "Requirement already satisfied: MarkupSafe>=2.0 in /opt/conda/lib/python3.11/site-packages (from jinja2>=3.0.3->jupyterlab) (2.1.3)\n",
      "Requirement already satisfied: anyio>=3.1.0 in /opt/conda/lib/python3.11/site-packages (from jupyter-server<3,>=2.4.0->jupyterlab) (4.0.0)\n",
      "Requirement already satisfied: argon2-cffi in /opt/conda/lib/python3.11/site-packages (from jupyter-server<3,>=2.4.0->jupyterlab) (23.1.0)\n",
      "Requirement already satisfied: jupyter-client>=7.4.4 in /opt/conda/lib/python3.11/site-packages (from jupyter-server<3,>=2.4.0->jupyterlab) (8.3.1)\n",
      "Requirement already satisfied: jupyter-events>=0.6.0 in /opt/conda/lib/python3.11/site-packages (from jupyter-server<3,>=2.4.0->jupyterlab) (0.7.0)\n",
      "Requirement already satisfied: jupyter-server-terminals in /opt/conda/lib/python3.11/site-packages (from jupyter-server<3,>=2.4.0->jupyterlab) (0.4.4)\n",
      "Requirement already satisfied: nbconvert>=6.4.4 in /opt/conda/lib/python3.11/site-packages (from jupyter-server<3,>=2.4.0->jupyterlab) (7.8.0)\n",
      "Requirement already satisfied: nbformat>=5.3.0 in /opt/conda/lib/python3.11/site-packages (from jupyter-server<3,>=2.4.0->jupyterlab) (5.9.2)\n",
      "Requirement already satisfied: overrides in /opt/conda/lib/python3.11/site-packages (from jupyter-server<3,>=2.4.0->jupyterlab) (7.4.0)\n",
      "Requirement already satisfied: prometheus-client in /opt/conda/lib/python3.11/site-packages (from jupyter-server<3,>=2.4.0->jupyterlab) (0.17.1)\n",
      "Requirement already satisfied: pyzmq>=24 in /opt/conda/lib/python3.11/site-packages (from jupyter-server<3,>=2.4.0->jupyterlab) (25.1.1)\n",
      "Requirement already satisfied: send2trash>=1.8.2 in /opt/conda/lib/python3.11/site-packages (from jupyter-server<3,>=2.4.0->jupyterlab) (1.8.2)\n",
      "Requirement already satisfied: terminado>=0.8.3 in /opt/conda/lib/python3.11/site-packages (from jupyter-server<3,>=2.4.0->jupyterlab) (0.17.1)\n",
      "Requirement already satisfied: websocket-client in /opt/conda/lib/python3.11/site-packages (from jupyter-server<3,>=2.4.0->jupyterlab) (1.6.2)\n",
      "Requirement already satisfied: platformdirs>=2.5 in /opt/conda/lib/python3.11/site-packages (from jupyter-core->jupyterlab) (3.10.0)\n",
      "Requirement already satisfied: babel>=2.10 in /opt/conda/lib/python3.11/site-packages (from jupyterlab-server<3,>=2.19.0->jupyterlab) (2.12.1)\n",
      "Requirement already satisfied: json5>=0.9.0 in /opt/conda/lib/python3.11/site-packages (from jupyterlab-server<3,>=2.19.0->jupyterlab) (0.9.14)\n",
      "Requirement already satisfied: jsonschema>=4.17.3 in /opt/conda/lib/python3.11/site-packages (from jupyterlab-server<3,>=2.19.0->jupyterlab) (4.19.0)\n",
      "Requirement already satisfied: requests>=2.28 in /opt/conda/lib/python3.11/site-packages (from jupyterlab-server<3,>=2.19.0->jupyterlab) (2.31.0)\n",
      "Requirement already satisfied: debugpy>=1.6.5 in /opt/conda/lib/python3.11/site-packages (from ipykernel->jupyterlab) (1.7.0)\n",
      "Requirement already satisfied: nest-asyncio in /opt/conda/lib/python3.11/site-packages (from ipykernel->jupyterlab) (1.5.6)\n",
      "Requirement already satisfied: psutil in /opt/conda/lib/python3.11/site-packages (from ipykernel->jupyterlab) (5.9.5)\n",
      "Requirement already satisfied: idna>=2.8 in /opt/conda/lib/python3.11/site-packages (from anyio>=3.1.0->jupyter-server<3,>=2.4.0->jupyterlab) (3.4)\n",
      "Requirement already satisfied: sniffio>=1.1 in /opt/conda/lib/python3.11/site-packages (from anyio>=3.1.0->jupyter-server<3,>=2.4.0->jupyterlab) (1.3.0)\n",
      "Requirement already satisfied: parso<0.9.0,>=0.8.3 in /opt/conda/lib/python3.11/site-packages (from jedi>=0.16->ipython>=6.1.0->ipywidgets) (0.8.3)\n",
      "Requirement already satisfied: attrs>=22.2.0 in /opt/conda/lib/python3.11/site-packages (from jsonschema>=4.17.3->jupyterlab-server<3,>=2.19.0->jupyterlab) (23.1.0)\n",
      "Requirement already satisfied: jsonschema-specifications>=2023.03.6 in /opt/conda/lib/python3.11/site-packages (from jsonschema>=4.17.3->jupyterlab-server<3,>=2.19.0->jupyterlab) (2023.7.1)\n",
      "Requirement already satisfied: referencing>=0.28.4 in /opt/conda/lib/python3.11/site-packages (from jsonschema>=4.17.3->jupyterlab-server<3,>=2.19.0->jupyterlab) (0.30.2)\n",
      "Requirement already satisfied: rpds-py>=0.7.1 in /opt/conda/lib/python3.11/site-packages (from jsonschema>=4.17.3->jupyterlab-server<3,>=2.19.0->jupyterlab) (0.10.2)\n",
      "Requirement already satisfied: python-dateutil>=2.8.2 in /opt/conda/lib/python3.11/site-packages (from jupyter-client>=7.4.4->jupyter-server<3,>=2.4.0->jupyterlab) (2.8.2)\n",
      "Requirement already satisfied: python-json-logger>=2.0.4 in /opt/conda/lib/python3.11/site-packages (from jupyter-events>=0.6.0->jupyter-server<3,>=2.4.0->jupyterlab) (2.0.7)\n",
      "Requirement already satisfied: pyyaml>=5.3 in /opt/conda/lib/python3.11/site-packages (from jupyter-events>=0.6.0->jupyter-server<3,>=2.4.0->jupyterlab) (6.0.1)\n",
      "Requirement already satisfied: rfc3339-validator in /opt/conda/lib/python3.11/site-packages (from jupyter-events>=0.6.0->jupyter-server<3,>=2.4.0->jupyterlab) (0.1.4)\n",
      "Requirement already satisfied: rfc3986-validator>=0.1.1 in /opt/conda/lib/python3.11/site-packages (from jupyter-events>=0.6.0->jupyter-server<3,>=2.4.0->jupyterlab) (0.1.1)\n",
      "Requirement already satisfied: beautifulsoup4 in /opt/conda/lib/python3.11/site-packages (from nbconvert>=6.4.4->jupyter-server<3,>=2.4.0->jupyterlab) (4.12.2)\n",
      "Requirement already satisfied: bleach!=5.0.0 in /opt/conda/lib/python3.11/site-packages (from nbconvert>=6.4.4->jupyter-server<3,>=2.4.0->jupyterlab) (6.0.0)\n",
      "Requirement already satisfied: defusedxml in /opt/conda/lib/python3.11/site-packages (from nbconvert>=6.4.4->jupyter-server<3,>=2.4.0->jupyterlab) (0.7.1)\n",
      "Requirement already satisfied: jupyterlab-pygments in /opt/conda/lib/python3.11/site-packages (from nbconvert>=6.4.4->jupyter-server<3,>=2.4.0->jupyterlab) (0.2.2)\n",
      "Requirement already satisfied: mistune<4,>=2.0.3 in /opt/conda/lib/python3.11/site-packages (from nbconvert>=6.4.4->jupyter-server<3,>=2.4.0->jupyterlab) (3.0.1)\n",
      "Requirement already satisfied: nbclient>=0.5.0 in /opt/conda/lib/python3.11/site-packages (from nbconvert>=6.4.4->jupyter-server<3,>=2.4.0->jupyterlab) (0.8.0)\n",
      "Requirement already satisfied: pandocfilters>=1.4.1 in /opt/conda/lib/python3.11/site-packages (from nbconvert>=6.4.4->jupyter-server<3,>=2.4.0->jupyterlab) (1.5.0)\n",
      "Requirement already satisfied: tinycss2 in /opt/conda/lib/python3.11/site-packages (from nbconvert>=6.4.4->jupyter-server<3,>=2.4.0->jupyterlab) (1.2.1)\n",
      "Requirement already satisfied: fastjsonschema in /opt/conda/lib/python3.11/site-packages (from nbformat>=5.3.0->jupyter-server<3,>=2.4.0->jupyterlab) (2.18.0)\n",
      "Requirement already satisfied: ptyprocess>=0.5 in /opt/conda/lib/python3.11/site-packages (from pexpect>4.3->ipython>=6.1.0->ipywidgets) (0.7.0)\n",
      "Requirement already satisfied: wcwidth in /opt/conda/lib/python3.11/site-packages (from prompt-toolkit!=3.0.37,<3.1.0,>=3.0.30->ipython>=6.1.0->ipywidgets) (0.2.6)\n",
      "Requirement already satisfied: charset-normalizer<4,>=2 in /opt/conda/lib/python3.11/site-packages (from requests>=2.28->jupyterlab-server<3,>=2.19.0->jupyterlab) (3.2.0)\n",
      "Requirement already satisfied: urllib3<3,>=1.21.1 in /opt/conda/lib/python3.11/site-packages (from requests>=2.28->jupyterlab-server<3,>=2.19.0->jupyterlab) (2.0.4)\n",
      "Requirement already satisfied: certifi>=2017.4.17 in /opt/conda/lib/python3.11/site-packages (from requests>=2.28->jupyterlab-server<3,>=2.19.0->jupyterlab) (2023.7.22)\n",
      "Requirement already satisfied: argon2-cffi-bindings in /opt/conda/lib/python3.11/site-packages (from argon2-cffi->jupyter-server<3,>=2.4.0->jupyterlab) (21.2.0)\n",
      "Requirement already satisfied: executing>=1.2.0 in /opt/conda/lib/python3.11/site-packages (from stack-data->ipython>=6.1.0->ipywidgets) (1.2.0)\n",
      "Requirement already satisfied: asttokens>=2.1.0 in /opt/conda/lib/python3.11/site-packages (from stack-data->ipython>=6.1.0->ipywidgets) (2.4.0)\n",
      "Requirement already satisfied: pure-eval in /opt/conda/lib/python3.11/site-packages (from stack-data->ipython>=6.1.0->ipywidgets) (0.2.2)\n",
      "Requirement already satisfied: six>=1.12.0 in /opt/conda/lib/python3.11/site-packages (from asttokens>=2.1.0->stack-data->ipython>=6.1.0->ipywidgets) (1.16.0)\n",
      "Requirement already satisfied: webencodings in /opt/conda/lib/python3.11/site-packages (from bleach!=5.0.0->nbconvert>=6.4.4->jupyter-server<3,>=2.4.0->jupyterlab) (0.5.1)\n",
      "Requirement already satisfied: fqdn in /opt/conda/lib/python3.11/site-packages (from jsonschema>=4.17.3->jupyterlab-server<3,>=2.19.0->jupyterlab) (1.5.1)\n",
      "Requirement already satisfied: isoduration in /opt/conda/lib/python3.11/site-packages (from jsonschema>=4.17.3->jupyterlab-server<3,>=2.19.0->jupyterlab) (20.11.0)\n",
      "Requirement already satisfied: jsonpointer>1.13 in /opt/conda/lib/python3.11/site-packages (from jsonschema>=4.17.3->jupyterlab-server<3,>=2.19.0->jupyterlab) (2.0)\n",
      "Requirement already satisfied: uri-template in /opt/conda/lib/python3.11/site-packages (from jsonschema>=4.17.3->jupyterlab-server<3,>=2.19.0->jupyterlab) (1.3.0)\n",
      "Requirement already satisfied: webcolors>=1.11 in /opt/conda/lib/python3.11/site-packages (from jsonschema>=4.17.3->jupyterlab-server<3,>=2.19.0->jupyterlab) (1.13)\n",
      "Requirement already satisfied: cffi>=1.0.1 in /opt/conda/lib/python3.11/site-packages (from argon2-cffi-bindings->argon2-cffi->jupyter-server<3,>=2.4.0->jupyterlab) (1.15.1)\n",
      "Requirement already satisfied: soupsieve>1.2 in /opt/conda/lib/python3.11/site-packages (from beautifulsoup4->nbconvert>=6.4.4->jupyter-server<3,>=2.4.0->jupyterlab) (2.5)\n",
      "Requirement already satisfied: pycparser in /opt/conda/lib/python3.11/site-packages (from cffi>=1.0.1->argon2-cffi-bindings->argon2-cffi->jupyter-server<3,>=2.4.0->jupyterlab) (2.21)\n",
      "Requirement already satisfied: arrow>=0.15.0 in /opt/conda/lib/python3.11/site-packages (from isoduration->jsonschema>=4.17.3->jupyterlab-server<3,>=2.19.0->jupyterlab) (1.2.3)\n"
     ]
    }
   ],
   "source": [
    "!pip install jupyterlab ipywidgets"
   ]
  },
  {
   "cell_type": "code",
   "execution_count": 3,
   "id": "8f182d1c-9f66-4044-9fa4-f672765e53a0",
   "metadata": {},
   "outputs": [
    {
     "data": {
      "application/vnd.jupyter.widget-view+json": {
       "model_id": "7df9e4e9e7774ac499770da56c382f05",
       "version_major": 2,
       "version_minor": 0
      },
      "text/plain": [
       "Text(value='', description='Description')"
      ]
     },
     "metadata": {},
     "output_type": "display_data"
    },
    {
     "data": {
      "application/vnd.jupyter.widget-view+json": {
       "model_id": "56ac173155af4158a69c3b7b1558118a",
       "version_major": 2,
       "version_minor": 0
      },
      "text/plain": [
       "FloatText(value=0.0, description='Amount')"
      ]
     },
     "metadata": {},
     "output_type": "display_data"
    },
    {
     "data": {
      "application/vnd.jupyter.widget-view+json": {
       "model_id": "98c62d60981b40b9965f33ff977d7db5",
       "version_major": 2,
       "version_minor": 0
      },
      "text/plain": [
       "Dropdown(description='Type', options=('Income', 'Expense'), value='Income')"
      ]
     },
     "metadata": {},
     "output_type": "display_data"
    },
    {
     "data": {
      "application/vnd.jupyter.widget-view+json": {
       "model_id": "b47933f928794a72a02b787ffa21ddae",
       "version_major": 2,
       "version_minor": 0
      },
      "text/plain": [
       "Button(description='Add Transaction', style=ButtonStyle())"
      ]
     },
     "metadata": {},
     "output_type": "display_data"
    },
    {
     "data": {
      "application/vnd.jupyter.widget-view+json": {
       "model_id": "cdf81415e67440258cdb7d6871e23dc4",
       "version_major": 2,
       "version_minor": 0
      },
      "text/plain": [
       "IntText(value=0, description='Transaction ID to Delete')"
      ]
     },
     "metadata": {},
     "output_type": "display_data"
    },
    {
     "data": {
      "application/vnd.jupyter.widget-view+json": {
       "model_id": "4e2de5d4e1ea446cb4d6d7819f883c7e",
       "version_major": 2,
       "version_minor": 0
      },
      "text/plain": [
       "Button(description='Delete Transaction', style=ButtonStyle())"
      ]
     },
     "metadata": {},
     "output_type": "display_data"
    },
    {
     "data": {
      "application/vnd.jupyter.widget-view+json": {
       "model_id": "e83d3bb61d5e436fb5da481b7bbbb820",
       "version_major": 2,
       "version_minor": 0
      },
      "text/plain": [
       "Output()"
      ]
     },
     "metadata": {},
     "output_type": "display_data"
    }
   ],
   "source": [
    "import sqlite3\n",
    "import ipywidgets as widgets\n",
    "from IPython.display import display\n",
    "\n",
    "# Database setup\n",
    "def setup_db():\n",
    "    conn = sqlite3.connect('finance.db')\n",
    "    c = conn.cursor()\n",
    "    c.execute('''CREATE TABLE IF NOT EXISTS transactions\n",
    "                 (id INTEGER PRIMARY KEY, description TEXT, amount REAL, type TEXT)''')\n",
    "    conn.commit()\n",
    "    conn.close()\n",
    "\n",
    "# Add transaction to database\n",
    "def add_transaction(description, amount, transaction_type):\n",
    "    conn = sqlite3.connect('finance.db')\n",
    "    c = conn.cursor()\n",
    "    c.execute('INSERT INTO transactions (description, amount, type) VALUES (?, ?, ?)',\n",
    "              (description, amount, transaction_type))\n",
    "    conn.commit()\n",
    "    conn.close()\n",
    "    refresh_transactions()\n",
    "\n",
    "# Delete transaction from database\n",
    "def delete_transaction(transaction_id):\n",
    "    conn = sqlite3.connect('finance.db')\n",
    "    c = conn.cursor()\n",
    "    c.execute('DELETE FROM transactions WHERE id = ?', (transaction_id,))\n",
    "    conn.commit()\n",
    "    conn.close()\n",
    "    refresh_transactions()\n",
    "\n",
    "# Refresh the transaction list\n",
    "def refresh_transactions():\n",
    "    conn = sqlite3.connect('finance.db')\n",
    "    c = conn.cursor()\n",
    "    c.execute('SELECT * FROM transactions')\n",
    "    transactions = c.fetchall()\n",
    "    transaction_list.clear_output()\n",
    "    with transaction_list:\n",
    "        for transaction in transactions:\n",
    "            display(widgets.HTML(f\"{transaction[0]}: {transaction[1]}, {transaction[2]}, {transaction[3]}\"))\n",
    "\n",
    "# Set up the database\n",
    "setup_db()\n",
    "\n",
    "# Create the GUI elements\n",
    "description_input = widgets.Text(description=\"Description\")\n",
    "amount_input = widgets.FloatText(description=\"Amount\")\n",
    "type_input = widgets.Dropdown(options=[\"Income\", \"Expense\"], description=\"Type\")\n",
    "\n",
    "add_button = widgets.Button(description=\"Add Transaction\")\n",
    "delete_button = widgets.Button(description=\"Delete Transaction\")\n",
    "\n",
    "transaction_id_input = widgets.IntText(description=\"Transaction ID to Delete\")\n",
    "transaction_list = widgets.Output()\n",
    "\n",
    "# Define button click handlers\n",
    "def on_add_button_clicked(b):\n",
    "    add_transaction(description_input.value, amount_input.value, type_input.value)\n",
    "\n",
    "def on_delete_button_clicked(b):\n",
    "    delete_transaction(transaction_id_input.value)\n",
    "\n",
    "add_button.on_click(on_add_button_clicked)\n",
    "delete_button.on_click(on_delete_button_clicked)\n",
    "\n",
    "# Display the GUI elements\n",
    "display(description_input, amount_input, type_input, add_button, transaction_id_input, delete_button, transaction_list)\n",
    "\n",
    "# Initial transaction list load\n",
    "refresh_transactions()"
   ]
  },
  {
   "cell_type": "code",
   "execution_count": 4,
   "id": "0b9c58c7-f655-4dd2-b667-c4f3926075f8",
   "metadata": {},
   "outputs": [
    {
     "data": {
      "application/vnd.jupyter.widget-view+json": {
       "model_id": "ad408dc188284736a850db73e1794a50",
       "version_major": 2,
       "version_minor": 0
      },
      "text/plain": [
       "VBox(children=(HTML(value='<h1>Personal Finance Tracker</h1>'), HBox(children=(Label(value='Description:'), Te…"
      ]
     },
     "metadata": {},
     "output_type": "display_data"
    }
   ],
   "source": [
    "import sqlite3\n",
    "import ipywidgets as widgets\n",
    "from IPython.display import display, HTML, clear_output\n",
    "\n",
    "# Database setup\n",
    "def setup_db():\n",
    "    conn = sqlite3.connect('finance.db')\n",
    "    c = conn.cursor()\n",
    "    c.execute('''CREATE TABLE IF NOT EXISTS transactions\n",
    "                 (id INTEGER PRIMARY KEY, description TEXT, amount REAL, type TEXT)''')\n",
    "    conn.commit()\n",
    "    conn.close()\n",
    "\n",
    "# Add transaction to database\n",
    "def add_transaction(description, amount, transaction_type):\n",
    "    conn = sqlite3.connect('finance.db')\n",
    "    c = conn.cursor()\n",
    "    c.execute('INSERT INTO transactions (description, amount, type) VALUES (?, ?, ?)',\n",
    "              (description, amount, transaction_type))\n",
    "    conn.commit()\n",
    "    conn.close()\n",
    "    refresh_transactions()\n",
    "\n",
    "# Delete transaction from database\n",
    "def delete_transaction(transaction_id):\n",
    "    conn = sqlite3.connect('finance.db')\n",
    "    c = conn.cursor()\n",
    "    c.execute('DELETE FROM transactions WHERE id = ?', (transaction_id,))\n",
    "    conn.commit()\n",
    "    conn.close()\n",
    "    refresh_transactions()\n",
    "\n",
    "# Refresh the transaction list\n",
    "def refresh_transactions():\n",
    "    conn = sqlite3.connect('finance.db')\n",
    "    c = conn.cursor()\n",
    "    c.execute('SELECT * FROM transactions')\n",
    "    transactions = c.fetchall()\n",
    "    transaction_list.clear_output()\n",
    "    with transaction_list:\n",
    "        for transaction in transactions:\n",
    "            display(HTML(f\"<p><b>ID:</b> {transaction[0]} <b>Description:</b> {transaction[1]} <b>Amount:</b> ${transaction[2]:.2f} <b>Type:</b> {transaction[3]}</p>\"))\n",
    "\n",
    "# Set up the database\n",
    "setup_db()\n",
    "\n",
    "# Create the GUI elements\n",
    "description_label = widgets.Label(\"Description:\")\n",
    "description_input = widgets.Text(placeholder=\"Enter description\")\n",
    "amount_label = widgets.Label(\"Amount:\")\n",
    "amount_input = widgets.FloatText(placeholder=\"Enter amount\")\n",
    "type_label = widgets.Label(\"Type:\")\n",
    "type_input = widgets.Dropdown(options=[\"Income\", \"Expense\"], value=\"Income\")\n",
    "\n",
    "add_button = widgets.Button(description=\"Add Transaction\", button_style='success')\n",
    "delete_button = widgets.Button(description=\"Delete Transaction\", button_style='danger')\n",
    "\n",
    "transaction_id_label = widgets.Label(\"Transaction ID to Delete:\")\n",
    "transaction_id_input = widgets.IntText()\n",
    "\n",
    "transaction_list = widgets.Output()\n",
    "\n",
    "# Define button click handlers\n",
    "def on_add_button_clicked(b):\n",
    "    add_transaction(description_input.value, amount_input.value, type_input.value)\n",
    "    description_input.value = \"\"\n",
    "    amount_input.value = 0\n",
    "    type_input.value = \"Income\"\n",
    "\n",
    "def on_delete_button_clicked(b):\n",
    "    delete_transaction(transaction_id_input.value)\n",
    "    transaction_id_input.value = 0\n",
    "\n",
    "add_button.on_click(on_add_button_clicked)\n",
    "delete_button.on_click(on_delete_button_clicked)\n",
    "\n",
    "# Organize the GUI elements into a layout\n",
    "app_layout = widgets.VBox([\n",
    "    widgets.HTML(\"<h1>Personal Finance Tracker</h1>\"),\n",
    "    widgets.HBox([description_label, description_input]),\n",
    "    widgets.HBox([amount_label, amount_input]),\n",
    "    widgets.HBox([type_label, type_input]),\n",
    "    add_button,\n",
    "    widgets.HTML(\"<h2>Delete Transaction</h2>\"),\n",
    "    widgets.HBox([transaction_id_label, transaction_id_input]),\n",
    "    delete_button,\n",
    "    widgets.HTML(\"<h2>Transactions</h2>\"),\n",
    "    transaction_list\n",
    "])\n",
    "\n",
    "# Display the GUI\n",
    "display(app_layout)\n",
    "\n",
    "# Initial transaction list load\n",
    "refresh_transactions()"
   ]
  },
  {
   "cell_type": "code",
   "execution_count": null,
   "id": "35c3447e-2c9f-48f7-b62f-dcaf781e3a26",
   "metadata": {},
   "outputs": [],
   "source": []
  }
 ],
 "metadata": {
  "kernelspec": {
   "display_name": "Python 3 (ipykernel)",
   "language": "python",
   "name": "python3"
  },
  "language_info": {
   "codemirror_mode": {
    "name": "ipython",
    "version": 3
   },
   "file_extension": ".py",
   "mimetype": "text/x-python",
   "name": "python",
   "nbconvert_exporter": "python",
   "pygments_lexer": "ipython3",
   "version": "3.11.5"
  }
 },
 "nbformat": 4,
 "nbformat_minor": 5
}
